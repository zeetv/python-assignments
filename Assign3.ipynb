{
 "cells": [
  {
   "cell_type": "code",
   "execution_count": 1,
   "metadata": {},
   "outputs": [
    {
     "name": "stdout",
     "output_type": "stream",
     "text": [
      "Select operation.\n",
      "1.Add\n",
      "2.Subtract\n",
      "3.Multiply\n",
      "4.Divide\n",
      "5.Power\n",
      "Enter choice(1/2/3/4/5): 1\n",
      "Enter first number: 23\n",
      "Enter second number: 22\n",
      "23.0 + 22.0 = 45.0\n"
     ]
    }
   ],
   "source": [
    "# 1.\tMake a calculator using Python with addition , subtraction , multiplication , division and power. \n",
    "# Program make a simple calculator\n",
    "# This function adds two numbers \n",
    "def add(x, y):\n",
    "   return x + y\n",
    "# This function subtracts two numbers \n",
    "def subtract(x, y):\n",
    "   return x - y\n",
    "# This function multiplies two numbers\n",
    "def multiply(x, y):\n",
    "   return x * y\n",
    "# This function divides two numbers\n",
    "def divide(x, y):\n",
    "   return x / y\n",
    "# This function Power two numbers\n",
    "def Power(x, y):\n",
    "   return x ** y\n",
    "print(\"Select operation.\")\n",
    "print(\"1.Add\")\n",
    "print(\"2.Subtract\")\n",
    "print(\"3.Multiply\")\n",
    "print(\"4.Divide\")\n",
    "print(\"5.Power\")\n",
    "# Take input from the user \n",
    "choice = input(\"Enter choice(1/2/3/4/5): \")\n",
    "num1 = float(input(\"Enter first number: \"))\n",
    "num2 = float(input(\"Enter second number: \"))\n",
    "if choice == '1':\n",
    "   print(num1,\"+\",num2,\"=\", add(num1,num2))\n",
    "elif choice == '2':\n",
    "   print(num1,\"-\",num2,\"=\", subtract(num1,num2))\n",
    "elif choice == '3':\n",
    "   print(num1,\"*\",num2,\"=\", multiply(num1,num2))\n",
    "elif choice == '4':\n",
    "   print(num1,\"/\",num2,\"=\", divide(num1,num2))\n",
    "elif choice == '5':\n",
    "   print(num1,\"**\",num2,\"=\", Power(num1,num2))\n",
    "else:\n",
    "   print(\"Invalid input\")"
   ]
  },
  {
   "cell_type": "code",
   "execution_count": 2,
   "metadata": {},
   "outputs": [
    {
     "name": "stdout",
     "output_type": "stream",
     "text": [
      "Enter key : f\n",
      "Enter value : 5\n",
      "{'f': '5'}\n"
     ]
    }
   ],
   "source": [
    "#3Write a Python script to add a key to a dictionary\n",
    "dic ={}\n",
    "keyinput = input(\"Enter key : \")\n",
    "valueinput = input(\"Enter value : \")\n",
    "dic.update({keyinput:valueinput})\n",
    "\n",
    "print(dic)"
   ]
  },
  {
   "cell_type": "code",
   "execution_count": 3,
   "metadata": {},
   "outputs": [
    {
     "name": "stdout",
     "output_type": "stream",
     "text": [
      "Sum : 600\n"
     ]
    }
   ],
   "source": [
    "#4Write a Python program to sum all the numeric items in a dictionary\n",
    "def returnSum(dict): \n",
    "      \n",
    "     sum = 0\n",
    "     for i in dict.values(): \n",
    "           sum = sum + i \n",
    "       \n",
    "     return sum\n",
    "dict = {'a': 100, 'b':200, 'c':300} \n",
    "print(\"Sum :\", returnSum(dict))\n"
   ]
  },
  {
   "cell_type": "code",
   "execution_count": 5,
   "metadata": {},
   "outputs": [
    {
     "name": "stdout",
     "output_type": "stream",
     "text": [
      "Enter Any key for check duplicate values 2, 5, 6\n"
     ]
    }
   ],
   "source": [
    "#6Write a Python script to check if a given key already exists in a dictionary\n",
    "keys = input(\"Enter Any key for check duplicate values \")\n",
    "disa = {\"value1\" : \"\" , \"value2\" :\"\"}\n",
    "for key,values in disa.items():\n",
    "    if key in keys:\n",
    "        print(\"------------------------------------\\n\")\n",
    "        print(\"KEY IS ALREADY AVAILABLE\", disa)"
   ]
  },
  {
   "cell_type": "code",
   "execution_count": 8,
   "metadata": {},
   "outputs": [
    {
     "name": "stdout",
     "output_type": "stream",
     "text": [
      "5\n",
      "6\n",
      "8\n",
      "1\n",
      "3\n"
     ]
    }
   ],
   "source": [
    "#2\tWrite a program to check if there is any numeric value in list using for loop \n",
    "lists =[\"1\",5,6,8,1,3,\"zee\",\"majno bhai\"]\n",
    "\n",
    "for lista in lists:\n",
    "    if type(lista) == int:\n",
    "        print(lista)\n",
    "        "
   ]
  },
  {
   "cell_type": "code",
   "execution_count": 10,
   "metadata": {},
   "outputs": [
    {
     "name": "stdout",
     "output_type": "stream",
     "text": [
      "2\n",
      "2\n",
      "6\n",
      "6\n",
      "---------------------------------------------\n",
      "\n"
     ]
    }
   ],
   "source": [
    "#5\tWrite a program to identify duplicate values from list \n",
    "l =[1,2,2,6,6,\"zeeshan nazar\",\"zshanfb@gmail.com\"]\n",
    "\n",
    "for x in l:\n",
    "    if l.count(x) > 1:\n",
    "        print(x)\n",
    "\n",
    "print(\"---------------------------------------------\\n\")"
   ]
  },
  {
   "cell_type": "code",
   "execution_count": null,
   "metadata": {},
   "outputs": [],
   "source": []
  }
 ],
 "metadata": {
  "kernelspec": {
   "display_name": "Python 3",
   "language": "python",
   "name": "python3"
  },
  "language_info": {
   "codemirror_mode": {
    "name": "ipython",
    "version": 3
   },
   "file_extension": ".py",
   "mimetype": "text/x-python",
   "name": "python",
   "nbconvert_exporter": "python",
   "pygments_lexer": "ipython3",
   "version": "3.7.4"
  }
 },
 "nbformat": 4,
 "nbformat_minor": 2
}
