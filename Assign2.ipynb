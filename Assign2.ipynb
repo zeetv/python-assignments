{
 "cells": [
  {
   "cell_type": "code",
   "execution_count": 1,
   "metadata": {},
   "outputs": [
    {
     "name": "stdout",
     "output_type": "stream",
     "text": [
      "Enter how many items in list: 4\n",
      "Enter cost of item 12\n",
      "Enter cost of item 44\n",
      "Enter cost of item 23\n",
      "Enter cost of item 78\n",
      "Sum of elements in given list is : 157\n"
     ]
    }
   ],
   "source": [
    "#4.\tWrite a Python program to sum all the numeric items in a list? \n",
    "lst = []\n",
    "num = int(input('Enter how many items in list: '))\n",
    "for n in range(num):\n",
    "    numbers = int(input('Enter cost of item '))\n",
    "    lst.append(numbers)\n",
    "print(\"Sum of elements in given list is :\", sum(lst))"
   ]
  },
  {
   "cell_type": "code",
   "execution_count": 2,
   "metadata": {},
   "outputs": [
    {
     "name": "stdout",
     "output_type": "stream",
     "text": [
      "Largest element is: 99\n"
     ]
    }
   ],
   "source": [
    "#5.\tWrite a Python program to get the largest number from a numeric list\n",
    "list1 = [10, 20, 4, 45, 99] \n",
    "  \n",
    "  \n",
    "#printing the maximum element \n",
    "print(\"Largest element is:\", max(list1))\n"
   ]
  },
  {
   "cell_type": "code",
   "execution_count": 3,
   "metadata": {},
   "outputs": [
    {
     "name": "stdout",
     "output_type": "stream",
     "text": [
      "1\n",
      "1\n",
      "2\n",
      "3\n"
     ]
    }
   ],
   "source": [
    "#6.\tTake a list, say for example this one:    a = [1, 1, 2, 3, 5, 8, 13, 21, 34, 55, 89] and\n",
    "#write a program that prints out all the elements of the list that are less than 5. \n",
    "\n",
    "a = [1, 1, 2, 3, 5, 8, 13, 21, 34, 55, 89]\n",
    "\n",
    "for i in a:\n",
    "\n",
    "    if i < 5:\n",
    "\n",
    "        print(i)"
   ]
  },
  {
   "cell_type": "code",
   "execution_count": 4,
   "metadata": {},
   "outputs": [
    {
     "name": "stdout",
     "output_type": "stream",
     "text": [
      "Marks In English Core:78\n",
      "Marks In Hindi/Mathematics:56\n",
      "Marks In Physics:22\n",
      "Marks In Chemistry:99\n",
      "Marks In Computer Science/Biology:45\n",
      "Your Marks In Percentage Is 60.0 %\n",
      "You have passed!\n"
     ]
    }
   ],
   "source": [
    "#1\tWrite a program which takes 5 inputs from user for different subject’s marks,total it and generate marksheet using grades? \n",
    "a=int(input(\"Marks In English Core:\"))\n",
    "b=int(input(\"Marks In Hindi/Mathematics:\"))\n",
    "c=int(input(\"Marks In Physics:\"))\n",
    "d=int(input(\"Marks In Chemistry:\"))\n",
    "e=int(input(\"Marks In Computer Science/Biology:\"))\n",
    " \n",
    "f=(a+b+c+d+e)*100/500\n",
    "print(\"Your Marks In Percentage Is\",f,\"%\")\n",
    " \n",
    "if f>=33:\n",
    "\tprint('You have passed!')\n",
    "else:\n",
    "\tprint('You have failed')"
   ]
  },
  {
   "cell_type": "code",
   "execution_count": 5,
   "metadata": {},
   "outputs": [
    {
     "name": "stdout",
     "output_type": "stream",
     "text": [
      "Enter a number: 23\n",
      "it is Odd\n"
     ]
    }
   ],
   "source": [
    "#2.\tWrite a program which take input from user and identify that the given number is even or odd? \n",
    "num = int(input(\"Enter a number: \"))\n",
    "if (num % 2) == 0:\n",
    "   print(\"it is Even\")\n",
    "else:\n",
    "   print(\"it is Odd\")"
   ]
  },
  {
   "cell_type": "code",
   "execution_count": 6,
   "metadata": {},
   "outputs": [
    {
     "name": "stdout",
     "output_type": "stream",
     "text": [
      "The length of list is:  4\n"
     ]
    }
   ],
   "source": [
    "#3.\tWrite a program which print the length of the list? \n",
    "a = [] \n",
    "a.append(\"Hello\") \n",
    "a.append(\"Geeks\") \n",
    "a.append(\"For\") \n",
    "a.append(\"Geeks\") \n",
    "print(\"The length of list is: \", len(a))"
   ]
  },
  {
   "cell_type": "code",
   "execution_count": null,
   "metadata": {},
   "outputs": [],
   "source": []
  }
 ],
 "metadata": {
  "kernelspec": {
   "display_name": "Python 3",
   "language": "python",
   "name": "python3"
  },
  "language_info": {
   "codemirror_mode": {
    "name": "ipython",
    "version": 3
   },
   "file_extension": ".py",
   "mimetype": "text/x-python",
   "name": "python",
   "nbconvert_exporter": "python",
   "pygments_lexer": "ipython3",
   "version": "3.7.4"
  }
 },
 "nbformat": 4,
 "nbformat_minor": 2
}
